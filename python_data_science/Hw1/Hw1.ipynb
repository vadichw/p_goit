{
  "nbformat": 4,
  "nbformat_minor": 0,
  "metadata": {
    "colab": {
      "provenance": []
    },
    "kernelspec": {
      "name": "python3",
      "display_name": "Python 3"
    },
    "language_info": {
      "name": "python"
    }
  },
  "cells": [
    {
      "cell_type": "code",
      "execution_count": 2,
      "metadata": {
        "id": "0hXhKakmk0x7"
      },
      "outputs": [],
      "source": [
        "import numpy as np"
      ]
    },
    {
      "cell_type": "code",
      "source": [
        "# 1\n",
        "v1 = np.linspace(1, 10, num=10)\n",
        "print(v1)"
      ],
      "metadata": {
        "colab": {
          "base_uri": "https://localhost:8080/"
        },
        "id": "ieYB5hI4lB_j",
        "outputId": "073b4074-da12-49c7-8308-7eab7c765237"
      },
      "execution_count": null,
      "outputs": [
        {
          "output_type": "stream",
          "name": "stdout",
          "text": [
            "[ 1.  2.  3.  4.  5.  6.  7.  8.  9. 10.]\n"
          ]
        }
      ]
    },
    {
      "cell_type": "code",
      "source": [
        "# 2\n",
        "m1 = np.zeros((3, 3), dtype = int)\n",
        "print(m1)"
      ],
      "metadata": {
        "colab": {
          "base_uri": "https://localhost:8080/"
        },
        "id": "HkycKLMElhJD",
        "outputId": "ade57acd-8a43-4168-f2a3-1e64f4777354"
      },
      "execution_count": null,
      "outputs": [
        {
          "output_type": "stream",
          "name": "stdout",
          "text": [
            "[[0 0 0]\n",
            " [0 0 0]\n",
            " [0 0 0]]\n"
          ]
        }
      ]
    },
    {
      "cell_type": "code",
      "source": [
        "# 3\n",
        "import numpy as np\n",
        "\n",
        "min = 1\n",
        "max = 10\n",
        "\n",
        "random_matrix = np.random.randint(min, max+1, size=(5, 5))\n",
        "\n",
        "print(random_matrix)\n"
      ],
      "metadata": {
        "colab": {
          "base_uri": "https://localhost:8080/"
        },
        "id": "HYnUreR0l9v_",
        "outputId": "45918780-66b6-43c3-ea39-0219d227eeeb"
      },
      "execution_count": null,
      "outputs": [
        {
          "output_type": "stream",
          "name": "stdout",
          "text": [
            "[[ 2  3  7  5  3]\n",
            " [ 7  6  2  4  6]\n",
            " [ 5  6  5  2  9]\n",
            " [10  1  4  6  9]\n",
            " [ 4  1  6  6  9]]\n"
          ]
        }
      ]
    },
    {
      "cell_type": "code",
      "source": [
        "# 4\n",
        "import numpy as np\n",
        "\n",
        "random_matrix = np.random.rand(4, 4)\n",
        "\n",
        "print(random_matrix)\n"
      ],
      "metadata": {
        "id": "yvZOQz7Qpeit"
      },
      "execution_count": null,
      "outputs": []
    },
    {
      "cell_type": "code",
      "source": [
        "# 5\n",
        "m1 = np.random.randint(1, 11, size=5)\n",
        "m2 = np.random.randint(1, 11, size=5)\n",
        "print(m1)\n",
        "print(m2)\n",
        "print(m1 + m2)\n",
        "print(m1 - m2)\n",
        "c = np.dot(m1, m2)\n",
        "print(c)"
      ],
      "metadata": {
        "id": "FIP8BjkkqUan"
      },
      "execution_count": null,
      "outputs": []
    },
    {
      "cell_type": "code",
      "source": [
        "# 6\n",
        "v1 = np.random.randint(1, 10, 7)\n",
        "v2 = np.random.randint(1, 10, 7)\n",
        "v3 = np.dot(v1, v2)\n",
        "print(v1)\n",
        "print(v2)\n",
        "print(v3)"
      ],
      "metadata": {
        "id": "_3ADkzluVnZF"
      },
      "execution_count": null,
      "outputs": []
    },
    {
      "cell_type": "code",
      "source": [
        "# 7\n",
        "m1 = np.random.randint(1,11, (2,2))\n",
        "m2 = np.random.randint(1,11, (2,3))\n",
        "m3 = np.dot(m1, m2)\n",
        "print(m3)"
      ],
      "metadata": {
        "colab": {
          "base_uri": "https://localhost:8080/"
        },
        "id": "n9WgwSuoWmqI",
        "outputId": "bb02c251-509a-43bb-edfb-728341e0fd4e"
      },
      "execution_count": null,
      "outputs": [
        {
          "output_type": "stream",
          "name": "stdout",
          "text": [
            "[[ 7 11 26]\n",
            " [27 27 54]]\n"
          ]
        }
      ]
    },
    {
      "cell_type": "code",
      "source": [
        "# 8\n",
        "m1 = np.random.randint(1, 11, (3,3))\n",
        "print(m1)\n",
        "\n",
        "m2 = np.linalg.inv(m1)\n",
        "print(m2)"
      ],
      "metadata": {
        "colab": {
          "base_uri": "https://localhost:8080/"
        },
        "id": "TYNpe4roXqAH",
        "outputId": "8bdc5abb-ab28-4947-d87b-6f91250ee14a"
      },
      "execution_count": null,
      "outputs": [
        {
          "output_type": "stream",
          "name": "stdout",
          "text": [
            "[[ 2  7  9]\n",
            " [ 6  4  6]\n",
            " [ 6  3 10]]\n",
            "[[-0.12359551  0.24157303 -0.03370787]\n",
            " [ 0.13483146  0.19101124 -0.23595506]\n",
            " [ 0.03370787 -0.20224719  0.19101124]]\n"
          ]
        }
      ]
    },
    {
      "cell_type": "code",
      "source": [
        "# 9\n",
        "m1 = np.random.random((4, 4))\n",
        "print(m1)\n",
        "print(50* '*')\n",
        "\n",
        "m2 = m1.T\n",
        "print(m2)"
      ],
      "metadata": {
        "id": "d9aoNhEsYNxM"
      },
      "execution_count": null,
      "outputs": []
    },
    {
      "cell_type": "code",
      "source": [
        "# 10\n",
        "v1 = np.random.randint(1, 11, 4)\n",
        "#print(v1)\n",
        "\n",
        "m1 = np.random.randint(1, 11, (3,4))\n",
        "#print(m1)\n",
        "\n",
        "r = np.dot(m1, v1)\n",
        "print(r)"
      ],
      "metadata": {
        "colab": {
          "base_uri": "https://localhost:8080/"
        },
        "id": "JaSrTKriY-BN",
        "outputId": "69993350-8564-4478-ac68-af685a3aaec1"
      },
      "execution_count": 3,
      "outputs": [
        {
          "output_type": "stream",
          "name": "stdout",
          "text": [
            "[40 35 43]\n"
          ]
        }
      ]
    },
    {
      "cell_type": "code",
      "source": [
        "# 11\n",
        "v1 = np.random.rand(3)\n",
        "m1 = np.random.rand(2,3)\n",
        "print(v1)\n",
        "print(m1)\n",
        "r = np.dot(m1, v1)\n",
        "print(r)"
      ],
      "metadata": {
        "id": "7_j2NgNIXvwX"
      },
      "execution_count": null,
      "outputs": []
    },
    {
      "cell_type": "code",
      "source": [
        "# 12\n",
        "m1 = np.random.randint(1, 11, (2,2))\n",
        "m2 = np.random.randint(1, 11, (2,2))\n",
        "print(m1 * m2)"
      ],
      "metadata": {
        "colab": {
          "base_uri": "https://localhost:8080/"
        },
        "id": "hQT0tBy0Y4hE",
        "outputId": "9d51749f-9514-4c2b-b401-d224df6a0a9c"
      },
      "execution_count": 10,
      "outputs": [
        {
          "output_type": "stream",
          "name": "stdout",
          "text": [
            "[[10 24]\n",
            " [25  8]]\n"
          ]
        }
      ]
    },
    {
      "cell_type": "code",
      "source": [
        "# 13\n",
        "m1 = np.random.randint(1, 11, (2, 2))\n",
        "m2 = np.random.randint(1, 11, (2, 2))\n",
        "r = np.dot(m1, m2)\n",
        "print(r)"
      ],
      "metadata": {
        "colab": {
          "base_uri": "https://localhost:8080/"
        },
        "id": "l6c9BrqsbCyi",
        "outputId": "d779a7bc-1d78-48ef-9b7e-87690c6480e3"
      },
      "execution_count": 12,
      "outputs": [
        {
          "output_type": "stream",
          "name": "stdout",
          "text": [
            "[[ 80  38]\n",
            " [130  66]]\n"
          ]
        }
      ]
    },
    {
      "cell_type": "code",
      "source": [
        "# 14\n",
        "m1 = np.random.randint(1, 101, (5, 5))\n",
        "print(m1)\n",
        "r = np.sum(m1)\n",
        "print(r)"
      ],
      "metadata": {
        "id": "RB-t44bkbpFf"
      },
      "execution_count": null,
      "outputs": []
    },
    {
      "cell_type": "code",
      "source": [
        "# 15\n",
        "m1 = np.random.randint(1, 11, (4, 4))\n",
        "m2 = np.random.randint(1, 11, (4, 4))\n",
        "r = m1 = m2\n",
        "print(r)"
      ],
      "metadata": {
        "colab": {
          "base_uri": "https://localhost:8080/"
        },
        "id": "cE-vCwqqcdnM",
        "outputId": "c339aad6-0a42-4367-a6b4-4521336f438a"
      },
      "execution_count": 18,
      "outputs": [
        {
          "output_type": "stream",
          "name": "stdout",
          "text": [
            "[[ 6  2 10  3]\n",
            " [ 9  2  6  1]\n",
            " [ 8  8  3  4]\n",
            " [ 5  8 10  4]]\n"
          ]
        }
      ]
    },
    {
      "cell_type": "code",
      "source": [
        "# 16\n",
        "# axis=1 вказує функції np.sum() обчислити суму елементів по рядках.\n",
        "m1 = np.random.rand(1,11, (3, 3))\n",
        "m_r = np.sum(m1, axis=1)\n",
        "print(m_r)"
      ],
      "metadata": {
        "colab": {
          "base_uri": "https://localhost:8080/"
        },
        "id": "5fA0B9Xuc39l",
        "outputId": "22f4e32f-0c9b-42c6-9d39-6140abb19256"
      },
      "execution_count": 20,
      "outputs": [
        {
          "output_type": "stream",
          "name": "stdout",
          "text": [
            "[1.33049062 1.54420604 1.81135997]\n"
          ]
        }
      ]
    },
    {
      "cell_type": "code",
      "source": [
        "# 17\n",
        "m1 = np.random.randint(1, 11, (3, 4))\n",
        "print(m1)\n",
        "m_r = np.square(m1)\n",
        "print(m_r)\n"
      ],
      "metadata": {
        "colab": {
          "base_uri": "https://localhost:8080/"
        },
        "id": "zzqcK1dvdkef",
        "outputId": "5abf60af-913c-49d7-9790-55b438b5e85b"
      },
      "execution_count": 24,
      "outputs": [
        {
          "output_type": "stream",
          "name": "stdout",
          "text": [
            "[[ 5 10  8  3]\n",
            " [10  8  5  1]\n",
            " [ 9  6  3  2]]\n",
            "[[ 25 100  64   9]\n",
            " [100  64  25   1]\n",
            " [ 81  36   9   4]]\n"
          ]
        }
      ]
    },
    {
      "cell_type": "code",
      "source": [
        "# 18\n",
        "v1 = np.random.randint(1, 50, 4)\n",
        "print(v1)\n",
        "v_r = np.sqrt(v1)\n",
        "print(v_r)"
      ],
      "metadata": {
        "colab": {
          "base_uri": "https://localhost:8080/"
        },
        "id": "ddY-RKiXd6Up",
        "outputId": "9c30cda8-5483-4bf4-868d-82571dd23c3e"
      },
      "execution_count": 26,
      "outputs": [
        {
          "output_type": "stream",
          "name": "stdout",
          "text": [
            "[ 2 33 46 36]\n",
            "[1.41421356 5.74456265 6.78232998 6.        ]\n"
          ]
        }
      ]
    }
  ]
}